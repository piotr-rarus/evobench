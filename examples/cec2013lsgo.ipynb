{
 "cells": [
  {
   "cell_type": "code",
   "execution_count": 9,
   "metadata": {},
   "outputs": [
    {
     "name": "stdout",
     "output_type": "stream",
     "text": [
      "The autoreload extension is already loaded. To reload it, use:\n",
      "  %reload_ext autoreload\n"
     ]
    }
   ],
   "source": [
    "%load_ext autoreload\n",
    "%autoreload 2\n",
    "\n",
    "import sys; sys.path.append(\"../\")\n",
    "\n",
    "from evobench import cec2013lsgo"
   ]
  },
  {
   "cell_type": "code",
   "execution_count": 10,
   "metadata": {},
   "outputs": [],
   "source": [
    "benchmark = cec2013lsgo.F12(verbose=1)"
   ]
  },
  {
   "cell_type": "code",
   "execution_count": 11,
   "metadata": {},
   "outputs": [
    {
     "name": "stdout",
     "output_type": "stream",
     "text": [
      "\n",
      "Initializing population: 10000 samples\n"
     ]
    }
   ],
   "source": [
    "population = benchmark.initialize_population(population_size=1e4)"
   ]
  },
  {
   "cell_type": "code",
   "execution_count": 12,
   "metadata": {},
   "outputs": [
    {
     "name": "stdout",
     "output_type": "stream",
     "text": [
      "\n",
      "Evaluating population of 10000 solutions\n",
      "\n"
     ]
    },
    {
     "data": {
      "text/plain": [
       "array([9.93016844e+12, 9.87451388e+12, 9.25117880e+12, ...,\n",
       "       1.03812783e+13, 1.06222206e+13, 9.18344540e+12])"
      ]
     },
     "execution_count": 12,
     "metadata": {},
     "output_type": "execute_result"
    }
   ],
   "source": [
    "benchmark.evaluate_population(population)"
   ]
  }
 ],
 "metadata": {
  "interpreter": {
   "hash": "bbb05a2a0a960035f8750ba34d220fee01f5e34df705c8e3b63ac2bdf7274974"
  },
  "kernelspec": {
   "display_name": "Python 3.7.8 64-bit ('env': virtualenv)",
   "language": "python",
   "name": "python3"
  },
  "language_info": {
   "codemirror_mode": {
    "name": "ipython",
    "version": 3
   },
   "file_extension": ".py",
   "mimetype": "text/x-python",
   "name": "python",
   "nbconvert_exporter": "python",
   "pygments_lexer": "ipython3",
   "version": "3.7.9"
  },
  "metadata": {
   "interpreter": {
    "hash": "9aa51cb3fcc04760114485881a13e62c5bea3876adf0551573c2a02b2bf0f277"
   }
  },
  "orig_nbformat": 2
 },
 "nbformat": 4,
 "nbformat_minor": 2
}
