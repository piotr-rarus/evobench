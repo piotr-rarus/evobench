{
 "cells": [
  {
   "cell_type": "code",
   "execution_count": 1,
   "metadata": {},
   "outputs": [],
   "source": [
    "%load_ext autoreload\n",
    "%autoreload 2\n",
    "\n",
    "import sys; sys.path.append(\"../\")\n",
    "\n",
    "import pandas as pd\n",
    "import plotly.express as px\n",
    "from tqdm.auto import tqdm\n",
    "import timeit\n",
    "\n",
    "from evobench.continuous.cec2013lsgo import (\n",
    "    F1, F2, F3, F4, F5, F6, F7, F8, F9, F10, F11, F12, F13, F14, F15\n",
    ")"
   ]
  },
  {
   "cell_type": "code",
   "execution_count": 2,
   "metadata": {},
   "outputs": [],
   "source": [
    "pop_sizes = [1e3, 1e4, 2e4, 5e4, 1e5]\n",
    "benchmarks = [\n",
    "    F1(), F2(), F3(), F4(), F5(), F6(), F7(), F8(), F9(),F10(), F11(), F12(), F13(),\n",
    "    F14(), F15()\n",
    "]\n",
    "repetitions = 10\n",
    "stats = []"
   ]
  },
  {
   "cell_type": "code",
   "execution_count": 3,
   "metadata": {},
   "outputs": [
    {
     "name": "stderr",
     "output_type": "stream",
     "text": [
      "100%|██████████| 15/15 [1:43:50<00:00, 415.34s/it]\n"
     ]
    }
   ],
   "source": [
    "for benchmark in tqdm(benchmarks):\n",
    "    for pop_size in pop_sizes:\n",
    "        for repetition in range(repetitions):\n",
    "            population = benchmark.initialize_population(pop_size)\n",
    "            start = timeit.default_timer()\n",
    "            benchmark.evaluate_population(population)\n",
    "            end = timeit.default_timer()\n",
    "            dt = end - start\n",
    "            stats.append([benchmark.__class__.__name__, pop_size, dt])"
   ]
  },
  {
   "cell_type": "code",
   "execution_count": 5,
   "metadata": {},
   "outputs": [],
   "source": [
    "stats = pd.DataFrame(stats, columns=[\"benchmark\", \"pop_size\", \"dt\"])\n",
    "stats = stats.groupby([\"benchmark\", \"pop_size\"]).agg([\"mean\", \"max\", \"min\"])\n",
    "stats[\"margin\"] = stats.dt[\"max\"] - stats.dt[\"min\"]\n",
    "stats = stats.reset_index()"
   ]
  },
  {
   "cell_type": "code",
   "execution_count": 24,
   "metadata": {},
   "outputs": [],
   "source": [
    "fig = px.line(\n",
    "    x=[\"{:.0e}\".format(pop_size) for pop_size in stats.pop_size.values],\n",
    "    y=stats.dt[\"mean\"],\n",
    "    color=stats.benchmark,\n",
    "    error_y=stats.margin,\n",
    "    labels={\n",
    "        \"y\": \"dt[s]\",\n",
    "        \"x\": \"pop_size\",\n",
    "        \"color\": \"\",\n",
    "    }\n",
    ")"
   ]
  },
  {
   "cell_type": "code",
   "execution_count": 25,
   "metadata": {},
   "outputs": [
    {
     "data": {
      "application/vnd.plotly.v1+json": {
       "config": {
        "plotlyServerURL": "https://plot.ly"
       },
       "data": [
        {
         "error_y": {
          "array": [
           0.03971230000000148,
           0.11959799999999987,
           0.12211800000000039,
           0.11398750000001456,
           0.3669756000000177
          ]
         },
         "hovertemplate": "=F1<br>pop_size=%{x}<br>dt[s]=%{y}<extra></extra>",
         "legendgroup": "F1",
         "line": {
          "color": "#636efa",
          "dash": "solid"
         },
         "marker": {
          "symbol": "circle"
         },
         "mode": "lines",
         "name": "F1",
         "orientation": "v",
         "showlegend": true,
         "type": "scatter",
         "x": [
          "1e+03",
          "1e+04",
          "2e+04",
          "5e+04",
          "1e+05"
         ],
         "xaxis": "x",
         "y": [
          0.14259867999999987,
          1.3914337799999996,
          2.7483969800000003,
          6.787833730000003,
          13.62571565
         ],
         "yaxis": "y"
        },
        {
         "error_y": {
          "array": [
           0.0075978999998369545,
           0.1735300999998799,
           0.06884170000012091,
           0.2561211999995976,
           2.7787631999999576
          ]
         },
         "hovertemplate": "=F10<br>pop_size=%{x}<br>dt[s]=%{y}<extra></extra>",
         "legendgroup": "F10",
         "line": {
          "color": "#EF553B",
          "dash": "solid"
         },
         "marker": {
          "symbol": "circle"
         },
         "mode": "lines",
         "name": "F10",
         "orientation": "v",
         "showlegend": true,
         "type": "scatter",
         "x": [
          "1e+03",
          "1e+04",
          "2e+04",
          "5e+04",
          "1e+05"
         ],
         "xaxis": "x",
         "y": [
          0.1869185199999265,
          2.247238719999905,
          4.457281310000008,
          11.237858180000103,
          23.77854737000007
         ],
         "yaxis": "y"
        },
        {
         "error_y": {
          "array": [
           0.016627299999981915,
           0.20366220000005342,
           0.4191195000003063,
           0.20657399999981862,
           0.5057843000004141
          ]
         },
         "hovertemplate": "=F11<br>pop_size=%{x}<br>dt[s]=%{y}<extra></extra>",
         "legendgroup": "F11",
         "line": {
          "color": "#00cc96",
          "dash": "solid"
         },
         "marker": {
          "symbol": "circle"
         },
         "mode": "lines",
         "name": "F11",
         "orientation": "v",
         "showlegend": true,
         "type": "scatter",
         "x": [
          "1e+03",
          "1e+04",
          "2e+04",
          "5e+04",
          "1e+05"
         ],
         "xaxis": "x",
         "y": [
          0.21851923999988684,
          2.331546249999974,
          4.7608972699999415,
          12.936335290000079,
          26.440106560000096
         ],
         "yaxis": "y"
        },
        {
         "error_y": {
          "array": [
           0.0032511999997950625,
           0.032571400000051653,
           0.027180499999758467,
           0.10716399999955684,
           0.17198880000023564
          ]
         },
         "hovertemplate": "=F12<br>pop_size=%{x}<br>dt[s]=%{y}<extra></extra>",
         "legendgroup": "F12",
         "line": {
          "color": "#ab63fa",
          "dash": "solid"
         },
         "marker": {
          "symbol": "circle"
         },
         "mode": "lines",
         "name": "F12",
         "orientation": "v",
         "showlegend": true,
         "type": "scatter",
         "x": [
          "1e+03",
          "1e+04",
          "2e+04",
          "5e+04",
          "1e+05"
         ],
         "xaxis": "x",
         "y": [
          0.023639330000014523,
          0.25040625999999977,
          0.4968239600000743,
          1.2616685899999083,
          2.7159580199999254
         ],
         "yaxis": "y"
        },
        {
         "error_y": {
          "array": [
           0.017498600000180886,
           0.08976540000003297,
           0.1331064000000879,
           0.21090260000028138,
           2.2111659000001964
          ]
         },
         "hovertemplate": "=F13<br>pop_size=%{x}<br>dt[s]=%{y}<extra></extra>",
         "legendgroup": "F13",
         "line": {
          "color": "#FFA15A",
          "dash": "solid"
         },
         "marker": {
          "symbol": "circle"
         },
         "mode": "lines",
         "name": "F13",
         "orientation": "v",
         "showlegend": true,
         "type": "scatter",
         "x": [
          "1e+03",
          "1e+04",
          "2e+04",
          "5e+04",
          "1e+05"
         ],
         "xaxis": "x",
         "y": [
          0.21743677999993452,
          2.3963140200000455,
          4.948156000000063,
          12.91341282999997,
          25.34185709000021
         ],
         "yaxis": "y"
        },
        {
         "error_y": {
          "array": [
           0.01729109999996581,
           0.05419720000008965,
           0.16849289999936445,
           0.18211360000077548,
           2.470008099999177
          ]
         },
         "hovertemplate": "=F14<br>pop_size=%{x}<br>dt[s]=%{y}<extra></extra>",
         "legendgroup": "F14",
         "line": {
          "color": "#19d3f3",
          "dash": "solid"
         },
         "marker": {
          "symbol": "circle"
         },
         "mode": "lines",
         "name": "F14",
         "orientation": "v",
         "showlegend": true,
         "type": "scatter",
         "x": [
          "1e+03",
          "1e+04",
          "2e+04",
          "5e+04",
          "1e+05"
         ],
         "xaxis": "x",
         "y": [
          0.21881279999988693,
          2.4224709799997983,
          5.024643489999926,
          13.066444800000227,
          26.259620990000077
         ],
         "yaxis": "y"
        },
        {
         "error_y": {
          "array": [
           0.030577200000152516,
           0.13671479999902658,
           1.256220199999916,
           6.831390999999712,
           0.7337102999999843
          ]
         },
         "hovertemplate": "=F15<br>pop_size=%{x}<br>dt[s]=%{y}<extra></extra>",
         "legendgroup": "F15",
         "line": {
          "color": "#FF6692",
          "dash": "solid"
         },
         "marker": {
          "symbol": "circle"
         },
         "mode": "lines",
         "name": "F15",
         "orientation": "v",
         "showlegend": true,
         "type": "scatter",
         "x": [
          "1e+03",
          "1e+04",
          "2e+04",
          "5e+04",
          "1e+05"
         ],
         "xaxis": "x",
         "y": [
          0.46633969999975305,
          7.851438990000043,
          15.592174420000083,
          34.51004366999996,
          65.95369330000013
         ],
         "yaxis": "y"
        },
        {
         "error_y": {
          "array": [
           0.022399300000017774,
           0.061932699999943,
           0.0413283999999976,
           0.17809520000002976,
           0.28123170000003483
          ]
         },
         "hovertemplate": "=F2<br>pop_size=%{x}<br>dt[s]=%{y}<extra></extra>",
         "legendgroup": "F2",
         "line": {
          "color": "#B6E880",
          "dash": "solid"
         },
         "marker": {
          "symbol": "circle"
         },
         "mode": "lines",
         "name": "F2",
         "orientation": "v",
         "showlegend": true,
         "type": "scatter",
         "x": [
          "1e+03",
          "1e+04",
          "2e+04",
          "5e+04",
          "1e+05"
         ],
         "xaxis": "x",
         "y": [
          0.1930746099999908,
          1.8963161799999966,
          3.77553317,
          9.494795590000006,
          18.904066320000005
         ],
         "yaxis": "y"
        },
        {
         "error_y": {
          "array": [
           0.025535999999988235,
           0.07917400000008001,
           0.06177100000002156,
           0.10511529999996583,
           0.3623916999999892
          ]
         },
         "hovertemplate": "=F3<br>pop_size=%{x}<br>dt[s]=%{y}<extra></extra>",
         "legendgroup": "F3",
         "line": {
          "color": "#FF97FF",
          "dash": "solid"
         },
         "marker": {
          "symbol": "circle"
         },
         "mode": "lines",
         "name": "F3",
         "orientation": "v",
         "showlegend": true,
         "type": "scatter",
         "x": [
          "1e+03",
          "1e+04",
          "2e+04",
          "5e+04",
          "1e+05"
         ],
         "xaxis": "x",
         "y": [
          0.18897358000001532,
          1.8827561099999912,
          3.7450450700000033,
          9.384093940000003,
          18.823959899999988
         ],
         "yaxis": "y"
        },
        {
         "error_y": {
          "array": [
           0.018206700000064302,
           0.03521269999998822,
           0.08176390000016909,
           0.16213050000010298,
           0.3468999999997777
          ]
         },
         "hovertemplate": "=F4<br>pop_size=%{x}<br>dt[s]=%{y}<extra></extra>",
         "legendgroup": "F4",
         "line": {
          "color": "#FECB52",
          "dash": "solid"
         },
         "marker": {
          "symbol": "circle"
         },
         "mode": "lines",
         "name": "F4",
         "orientation": "v",
         "showlegend": true,
         "type": "scatter",
         "x": [
          "1e+03",
          "1e+04",
          "2e+04",
          "5e+04",
          "1e+05"
         ],
         "xaxis": "x",
         "y": [
          0.15086763000000475,
          1.5917328200000043,
          3.219936719999987,
          7.986602100000004,
          16.15968842
         ],
         "yaxis": "y"
        },
        {
         "error_y": {
          "array": [
           0.013877000000093176,
           0.03649149999978363,
           0.07128890000035426,
           0.6216976000000614,
           2.832670899999812
          ]
         },
         "hovertemplate": "=F5<br>pop_size=%{x}<br>dt[s]=%{y}<extra></extra>",
         "legendgroup": "F5",
         "line": {
          "color": "#636efa",
          "dash": "solid"
         },
         "marker": {
          "symbol": "circle"
         },
         "mode": "lines",
         "name": "F5",
         "orientation": "v",
         "showlegend": true,
         "type": "scatter",
         "x": [
          "1e+03",
          "1e+04",
          "2e+04",
          "5e+04",
          "1e+05"
         ],
         "xaxis": "x",
         "y": [
          0.19718747999995684,
          2.116907620000029,
          4.273547680000002,
          10.84683349999998,
          21.801478989999985
         ],
         "yaxis": "y"
        },
        {
         "error_y": {
          "array": [
           0.01808189999997012,
           0.05677169999989928,
           0.13033089999976255,
           0.2710490000001755,
           0.6572202999998353
          ]
         },
         "hovertemplate": "=F6<br>pop_size=%{x}<br>dt[s]=%{y}<extra></extra>",
         "legendgroup": "F6",
         "line": {
          "color": "#EF553B",
          "dash": "solid"
         },
         "marker": {
          "symbol": "circle"
         },
         "mode": "lines",
         "name": "F6",
         "orientation": "v",
         "showlegend": true,
         "type": "scatter",
         "x": [
          "1e+03",
          "1e+04",
          "2e+04",
          "5e+04",
          "1e+05"
         ],
         "xaxis": "x",
         "y": [
          0.19341979000002993,
          2.1331806099999766,
          4.2932645700000425,
          10.784316949999994,
          21.672840279999992
         ],
         "yaxis": "y"
        },
        {
         "error_y": {
          "array": [
           0.005294300000059593,
           0.052975300000071,
           0.12973439999996117,
           0.30427800000006755,
           0.21209689999977854
          ]
         },
         "hovertemplate": "=F7<br>pop_size=%{x}<br>dt[s]=%{y}<extra></extra>",
         "legendgroup": "F7",
         "line": {
          "color": "#00cc96",
          "dash": "solid"
         },
         "marker": {
          "symbol": "circle"
         },
         "mode": "lines",
         "name": "F7",
         "orientation": "v",
         "showlegend": true,
         "type": "scatter",
         "x": [
          "1e+03",
          "1e+04",
          "2e+04",
          "5e+04",
          "1e+05"
         ],
         "xaxis": "x",
         "y": [
          0.06524745000010626,
          0.7588249799999176,
          1.5554344700000455,
          4.0716282899999445,
          8.378275459999987
         ],
         "yaxis": "y"
        },
        {
         "error_y": {
          "array": [
           0.013153800000509364,
           0.14705940000021656,
           0.18719240000018544,
           0.17330709999941973,
           0.23586939999995593
          ]
         },
         "hovertemplate": "=F8<br>pop_size=%{x}<br>dt[s]=%{y}<extra></extra>",
         "legendgroup": "F8",
         "line": {
          "color": "#ab63fa",
          "dash": "solid"
         },
         "marker": {
          "symbol": "circle"
         },
         "mode": "lines",
         "name": "F8",
         "orientation": "v",
         "showlegend": true,
         "type": "scatter",
         "x": [
          "1e+03",
          "1e+04",
          "2e+04",
          "5e+04",
          "1e+05"
         ],
         "xaxis": "x",
         "y": [
          0.14385776999997688,
          1.5619704500000808,
          3.057741719999922,
          7.716553560000011,
          15.636737510000012
         ],
         "yaxis": "y"
        },
        {
         "error_y": {
          "array": [
           0.013450500000544707,
           0.07938030000013896,
           0.696225499999855,
           0.3537146999997276,
           3.9512940000004164
          ]
         },
         "hovertemplate": "=F9<br>pop_size=%{x}<br>dt[s]=%{y}<extra></extra>",
         "legendgroup": "F9",
         "line": {
          "color": "#FFA15A",
          "dash": "solid"
         },
         "marker": {
          "symbol": "circle"
         },
         "mode": "lines",
         "name": "F9",
         "orientation": "v",
         "showlegend": true,
         "type": "scatter",
         "x": [
          "1e+03",
          "1e+04",
          "2e+04",
          "5e+04",
          "1e+05"
         ],
         "xaxis": "x",
         "y": [
          0.18202603000004275,
          2.0029392800000094,
          4.151258959999995,
          10.362366750000001,
          21.75219232999998
         ],
         "yaxis": "y"
        }
       ],
       "layout": {
        "legend": {
         "title": {
          "text": ""
         },
         "tracegroupgap": 0
        },
        "margin": {
         "t": 60
        },
        "template": {
         "data": {
          "bar": [
           {
            "error_x": {
             "color": "#2a3f5f"
            },
            "error_y": {
             "color": "#2a3f5f"
            },
            "marker": {
             "line": {
              "color": "#E5ECF6",
              "width": 0.5
             },
             "pattern": {
              "fillmode": "overlay",
              "size": 10,
              "solidity": 0.2
             }
            },
            "type": "bar"
           }
          ],
          "barpolar": [
           {
            "marker": {
             "line": {
              "color": "#E5ECF6",
              "width": 0.5
             },
             "pattern": {
              "fillmode": "overlay",
              "size": 10,
              "solidity": 0.2
             }
            },
            "type": "barpolar"
           }
          ],
          "carpet": [
           {
            "aaxis": {
             "endlinecolor": "#2a3f5f",
             "gridcolor": "white",
             "linecolor": "white",
             "minorgridcolor": "white",
             "startlinecolor": "#2a3f5f"
            },
            "baxis": {
             "endlinecolor": "#2a3f5f",
             "gridcolor": "white",
             "linecolor": "white",
             "minorgridcolor": "white",
             "startlinecolor": "#2a3f5f"
            },
            "type": "carpet"
           }
          ],
          "choropleth": [
           {
            "colorbar": {
             "outlinewidth": 0,
             "ticks": ""
            },
            "type": "choropleth"
           }
          ],
          "contour": [
           {
            "colorbar": {
             "outlinewidth": 0,
             "ticks": ""
            },
            "colorscale": [
             [
              0,
              "#0d0887"
             ],
             [
              0.1111111111111111,
              "#46039f"
             ],
             [
              0.2222222222222222,
              "#7201a8"
             ],
             [
              0.3333333333333333,
              "#9c179e"
             ],
             [
              0.4444444444444444,
              "#bd3786"
             ],
             [
              0.5555555555555556,
              "#d8576b"
             ],
             [
              0.6666666666666666,
              "#ed7953"
             ],
             [
              0.7777777777777778,
              "#fb9f3a"
             ],
             [
              0.8888888888888888,
              "#fdca26"
             ],
             [
              1,
              "#f0f921"
             ]
            ],
            "type": "contour"
           }
          ],
          "contourcarpet": [
           {
            "colorbar": {
             "outlinewidth": 0,
             "ticks": ""
            },
            "type": "contourcarpet"
           }
          ],
          "heatmap": [
           {
            "colorbar": {
             "outlinewidth": 0,
             "ticks": ""
            },
            "colorscale": [
             [
              0,
              "#0d0887"
             ],
             [
              0.1111111111111111,
              "#46039f"
             ],
             [
              0.2222222222222222,
              "#7201a8"
             ],
             [
              0.3333333333333333,
              "#9c179e"
             ],
             [
              0.4444444444444444,
              "#bd3786"
             ],
             [
              0.5555555555555556,
              "#d8576b"
             ],
             [
              0.6666666666666666,
              "#ed7953"
             ],
             [
              0.7777777777777778,
              "#fb9f3a"
             ],
             [
              0.8888888888888888,
              "#fdca26"
             ],
             [
              1,
              "#f0f921"
             ]
            ],
            "type": "heatmap"
           }
          ],
          "heatmapgl": [
           {
            "colorbar": {
             "outlinewidth": 0,
             "ticks": ""
            },
            "colorscale": [
             [
              0,
              "#0d0887"
             ],
             [
              0.1111111111111111,
              "#46039f"
             ],
             [
              0.2222222222222222,
              "#7201a8"
             ],
             [
              0.3333333333333333,
              "#9c179e"
             ],
             [
              0.4444444444444444,
              "#bd3786"
             ],
             [
              0.5555555555555556,
              "#d8576b"
             ],
             [
              0.6666666666666666,
              "#ed7953"
             ],
             [
              0.7777777777777778,
              "#fb9f3a"
             ],
             [
              0.8888888888888888,
              "#fdca26"
             ],
             [
              1,
              "#f0f921"
             ]
            ],
            "type": "heatmapgl"
           }
          ],
          "histogram": [
           {
            "marker": {
             "pattern": {
              "fillmode": "overlay",
              "size": 10,
              "solidity": 0.2
             }
            },
            "type": "histogram"
           }
          ],
          "histogram2d": [
           {
            "colorbar": {
             "outlinewidth": 0,
             "ticks": ""
            },
            "colorscale": [
             [
              0,
              "#0d0887"
             ],
             [
              0.1111111111111111,
              "#46039f"
             ],
             [
              0.2222222222222222,
              "#7201a8"
             ],
             [
              0.3333333333333333,
              "#9c179e"
             ],
             [
              0.4444444444444444,
              "#bd3786"
             ],
             [
              0.5555555555555556,
              "#d8576b"
             ],
             [
              0.6666666666666666,
              "#ed7953"
             ],
             [
              0.7777777777777778,
              "#fb9f3a"
             ],
             [
              0.8888888888888888,
              "#fdca26"
             ],
             [
              1,
              "#f0f921"
             ]
            ],
            "type": "histogram2d"
           }
          ],
          "histogram2dcontour": [
           {
            "colorbar": {
             "outlinewidth": 0,
             "ticks": ""
            },
            "colorscale": [
             [
              0,
              "#0d0887"
             ],
             [
              0.1111111111111111,
              "#46039f"
             ],
             [
              0.2222222222222222,
              "#7201a8"
             ],
             [
              0.3333333333333333,
              "#9c179e"
             ],
             [
              0.4444444444444444,
              "#bd3786"
             ],
             [
              0.5555555555555556,
              "#d8576b"
             ],
             [
              0.6666666666666666,
              "#ed7953"
             ],
             [
              0.7777777777777778,
              "#fb9f3a"
             ],
             [
              0.8888888888888888,
              "#fdca26"
             ],
             [
              1,
              "#f0f921"
             ]
            ],
            "type": "histogram2dcontour"
           }
          ],
          "mesh3d": [
           {
            "colorbar": {
             "outlinewidth": 0,
             "ticks": ""
            },
            "type": "mesh3d"
           }
          ],
          "parcoords": [
           {
            "line": {
             "colorbar": {
              "outlinewidth": 0,
              "ticks": ""
             }
            },
            "type": "parcoords"
           }
          ],
          "pie": [
           {
            "automargin": true,
            "type": "pie"
           }
          ],
          "scatter": [
           {
            "marker": {
             "colorbar": {
              "outlinewidth": 0,
              "ticks": ""
             }
            },
            "type": "scatter"
           }
          ],
          "scatter3d": [
           {
            "line": {
             "colorbar": {
              "outlinewidth": 0,
              "ticks": ""
             }
            },
            "marker": {
             "colorbar": {
              "outlinewidth": 0,
              "ticks": ""
             }
            },
            "type": "scatter3d"
           }
          ],
          "scattercarpet": [
           {
            "marker": {
             "colorbar": {
              "outlinewidth": 0,
              "ticks": ""
             }
            },
            "type": "scattercarpet"
           }
          ],
          "scattergeo": [
           {
            "marker": {
             "colorbar": {
              "outlinewidth": 0,
              "ticks": ""
             }
            },
            "type": "scattergeo"
           }
          ],
          "scattergl": [
           {
            "marker": {
             "colorbar": {
              "outlinewidth": 0,
              "ticks": ""
             }
            },
            "type": "scattergl"
           }
          ],
          "scattermapbox": [
           {
            "marker": {
             "colorbar": {
              "outlinewidth": 0,
              "ticks": ""
             }
            },
            "type": "scattermapbox"
           }
          ],
          "scatterpolar": [
           {
            "marker": {
             "colorbar": {
              "outlinewidth": 0,
              "ticks": ""
             }
            },
            "type": "scatterpolar"
           }
          ],
          "scatterpolargl": [
           {
            "marker": {
             "colorbar": {
              "outlinewidth": 0,
              "ticks": ""
             }
            },
            "type": "scatterpolargl"
           }
          ],
          "scatterternary": [
           {
            "marker": {
             "colorbar": {
              "outlinewidth": 0,
              "ticks": ""
             }
            },
            "type": "scatterternary"
           }
          ],
          "surface": [
           {
            "colorbar": {
             "outlinewidth": 0,
             "ticks": ""
            },
            "colorscale": [
             [
              0,
              "#0d0887"
             ],
             [
              0.1111111111111111,
              "#46039f"
             ],
             [
              0.2222222222222222,
              "#7201a8"
             ],
             [
              0.3333333333333333,
              "#9c179e"
             ],
             [
              0.4444444444444444,
              "#bd3786"
             ],
             [
              0.5555555555555556,
              "#d8576b"
             ],
             [
              0.6666666666666666,
              "#ed7953"
             ],
             [
              0.7777777777777778,
              "#fb9f3a"
             ],
             [
              0.8888888888888888,
              "#fdca26"
             ],
             [
              1,
              "#f0f921"
             ]
            ],
            "type": "surface"
           }
          ],
          "table": [
           {
            "cells": {
             "fill": {
              "color": "#EBF0F8"
             },
             "line": {
              "color": "white"
             }
            },
            "header": {
             "fill": {
              "color": "#C8D4E3"
             },
             "line": {
              "color": "white"
             }
            },
            "type": "table"
           }
          ]
         },
         "layout": {
          "annotationdefaults": {
           "arrowcolor": "#2a3f5f",
           "arrowhead": 0,
           "arrowwidth": 1
          },
          "autotypenumbers": "strict",
          "coloraxis": {
           "colorbar": {
            "outlinewidth": 0,
            "ticks": ""
           }
          },
          "colorscale": {
           "diverging": [
            [
             0,
             "#8e0152"
            ],
            [
             0.1,
             "#c51b7d"
            ],
            [
             0.2,
             "#de77ae"
            ],
            [
             0.3,
             "#f1b6da"
            ],
            [
             0.4,
             "#fde0ef"
            ],
            [
             0.5,
             "#f7f7f7"
            ],
            [
             0.6,
             "#e6f5d0"
            ],
            [
             0.7,
             "#b8e186"
            ],
            [
             0.8,
             "#7fbc41"
            ],
            [
             0.9,
             "#4d9221"
            ],
            [
             1,
             "#276419"
            ]
           ],
           "sequential": [
            [
             0,
             "#0d0887"
            ],
            [
             0.1111111111111111,
             "#46039f"
            ],
            [
             0.2222222222222222,
             "#7201a8"
            ],
            [
             0.3333333333333333,
             "#9c179e"
            ],
            [
             0.4444444444444444,
             "#bd3786"
            ],
            [
             0.5555555555555556,
             "#d8576b"
            ],
            [
             0.6666666666666666,
             "#ed7953"
            ],
            [
             0.7777777777777778,
             "#fb9f3a"
            ],
            [
             0.8888888888888888,
             "#fdca26"
            ],
            [
             1,
             "#f0f921"
            ]
           ],
           "sequentialminus": [
            [
             0,
             "#0d0887"
            ],
            [
             0.1111111111111111,
             "#46039f"
            ],
            [
             0.2222222222222222,
             "#7201a8"
            ],
            [
             0.3333333333333333,
             "#9c179e"
            ],
            [
             0.4444444444444444,
             "#bd3786"
            ],
            [
             0.5555555555555556,
             "#d8576b"
            ],
            [
             0.6666666666666666,
             "#ed7953"
            ],
            [
             0.7777777777777778,
             "#fb9f3a"
            ],
            [
             0.8888888888888888,
             "#fdca26"
            ],
            [
             1,
             "#f0f921"
            ]
           ]
          },
          "colorway": [
           "#636efa",
           "#EF553B",
           "#00cc96",
           "#ab63fa",
           "#FFA15A",
           "#19d3f3",
           "#FF6692",
           "#B6E880",
           "#FF97FF",
           "#FECB52"
          ],
          "font": {
           "color": "#2a3f5f"
          },
          "geo": {
           "bgcolor": "white",
           "lakecolor": "white",
           "landcolor": "#E5ECF6",
           "showlakes": true,
           "showland": true,
           "subunitcolor": "white"
          },
          "hoverlabel": {
           "align": "left"
          },
          "hovermode": "closest",
          "mapbox": {
           "style": "light"
          },
          "paper_bgcolor": "white",
          "plot_bgcolor": "#E5ECF6",
          "polar": {
           "angularaxis": {
            "gridcolor": "white",
            "linecolor": "white",
            "ticks": ""
           },
           "bgcolor": "#E5ECF6",
           "radialaxis": {
            "gridcolor": "white",
            "linecolor": "white",
            "ticks": ""
           }
          },
          "scene": {
           "xaxis": {
            "backgroundcolor": "#E5ECF6",
            "gridcolor": "white",
            "gridwidth": 2,
            "linecolor": "white",
            "showbackground": true,
            "ticks": "",
            "zerolinecolor": "white"
           },
           "yaxis": {
            "backgroundcolor": "#E5ECF6",
            "gridcolor": "white",
            "gridwidth": 2,
            "linecolor": "white",
            "showbackground": true,
            "ticks": "",
            "zerolinecolor": "white"
           },
           "zaxis": {
            "backgroundcolor": "#E5ECF6",
            "gridcolor": "white",
            "gridwidth": 2,
            "linecolor": "white",
            "showbackground": true,
            "ticks": "",
            "zerolinecolor": "white"
           }
          },
          "shapedefaults": {
           "line": {
            "color": "#2a3f5f"
           }
          },
          "ternary": {
           "aaxis": {
            "gridcolor": "white",
            "linecolor": "white",
            "ticks": ""
           },
           "baxis": {
            "gridcolor": "white",
            "linecolor": "white",
            "ticks": ""
           },
           "bgcolor": "#E5ECF6",
           "caxis": {
            "gridcolor": "white",
            "linecolor": "white",
            "ticks": ""
           }
          },
          "title": {
           "x": 0.05
          },
          "xaxis": {
           "automargin": true,
           "gridcolor": "white",
           "linecolor": "white",
           "ticks": "",
           "title": {
            "standoff": 15
           },
           "zerolinecolor": "white",
           "zerolinewidth": 2
          },
          "yaxis": {
           "automargin": true,
           "gridcolor": "white",
           "linecolor": "white",
           "ticks": "",
           "title": {
            "standoff": 15
           },
           "zerolinecolor": "white",
           "zerolinewidth": 2
          }
         }
        },
        "xaxis": {
         "anchor": "y",
         "domain": [
          0,
          1
         ],
         "title": {
          "text": "pop_size"
         }
        },
        "yaxis": {
         "anchor": "x",
         "domain": [
          0,
          1
         ],
         "title": {
          "text": "dt[s]"
         }
        }
       }
      }
     },
     "metadata": {},
     "output_type": "display_data"
    }
   ],
   "source": [
    "fig"
   ]
  }
 ],
 "metadata": {
  "interpreter": {
   "hash": "bbb05a2a0a960035f8750ba34d220fee01f5e34df705c8e3b63ac2bdf7274974"
  },
  "kernelspec": {
   "display_name": "Python 3.7.9 64-bit ('env': venv)",
   "language": "python",
   "name": "python3"
  },
  "language_info": {
   "codemirror_mode": {
    "name": "ipython",
    "version": 3
   },
   "file_extension": ".py",
   "mimetype": "text/x-python",
   "name": "python",
   "nbconvert_exporter": "python",
   "pygments_lexer": "ipython3",
   "version": "3.7.9"
  },
  "orig_nbformat": 4
 },
 "nbformat": 4,
 "nbformat_minor": 2
}
